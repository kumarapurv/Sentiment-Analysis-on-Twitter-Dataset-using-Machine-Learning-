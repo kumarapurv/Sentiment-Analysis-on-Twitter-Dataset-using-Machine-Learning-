{
  "nbformat": 4,
  "nbformat_minor": 0,
  "metadata": {
    "colab": {
      "name": "Sentiment Analysis - Twitter.ipynb",
      "provenance": []
    },
    "kernelspec": {
      "name": "python3",
      "display_name": "Python 3"
    }
  },
  "cells": [
    {
      "cell_type": "code",
      "metadata": {
        "id": "UoSWXH5AR-ur"
      },
      "source": [
        "import pandas as pd\r\n",
        "import re"
      ],
      "execution_count": 1,
      "outputs": []
    },
    {
      "cell_type": "code",
      "metadata": {
        "colab": {
          "base_uri": "https://localhost:8080/"
        },
        "id": "Brx-g0gOS6QH",
        "outputId": "e867ec4c-0b49-4376-ce2a-e05f07288f59"
      },
      "source": [
        "from google.colab import drive\r\n",
        "drive.mount(\"/content/gdrive\")"
      ],
      "execution_count": 2,
      "outputs": [
        {
          "output_type": "stream",
          "text": [
            "Mounted at /content/gdrive\n"
          ],
          "name": "stdout"
        }
      ]
    },
    {
      "cell_type": "code",
      "metadata": {
        "id": "Zkar9bMxTR2Q"
      },
      "source": [
        "data_path = '/content/gdrive/My Drive/My Projects/Sentiment Analysis Twitter/train.csv'"
      ],
      "execution_count": 3,
      "outputs": []
    },
    {
      "cell_type": "code",
      "metadata": {
        "colab": {
          "base_uri": "https://localhost:8080/",
          "height": 204
        },
        "id": "MbLkQDz0UUg2",
        "outputId": "02ecc1e3-abf1-48a3-88e8-424f5dc84a86"
      },
      "source": [
        "data = pd.read_csv(data_path, encoding = \"ISO-8859-1\")\r\n",
        "data.head(5)"
      ],
      "execution_count": 4,
      "outputs": [
        {
          "output_type": "execute_result",
          "data": {
            "text/html": [
              "<div>\n",
              "<style scoped>\n",
              "    .dataframe tbody tr th:only-of-type {\n",
              "        vertical-align: middle;\n",
              "    }\n",
              "\n",
              "    .dataframe tbody tr th {\n",
              "        vertical-align: top;\n",
              "    }\n",
              "\n",
              "    .dataframe thead th {\n",
              "        text-align: right;\n",
              "    }\n",
              "</style>\n",
              "<table border=\"1\" class=\"dataframe\">\n",
              "  <thead>\n",
              "    <tr style=\"text-align: right;\">\n",
              "      <th></th>\n",
              "      <th>ItemID</th>\n",
              "      <th>Sentiment</th>\n",
              "      <th>SentimentText</th>\n",
              "    </tr>\n",
              "  </thead>\n",
              "  <tbody>\n",
              "    <tr>\n",
              "      <th>0</th>\n",
              "      <td>1</td>\n",
              "      <td>0</td>\n",
              "      <td>is so sad for my APL frie...</td>\n",
              "    </tr>\n",
              "    <tr>\n",
              "      <th>1</th>\n",
              "      <td>2</td>\n",
              "      <td>0</td>\n",
              "      <td>I missed the New Moon trail...</td>\n",
              "    </tr>\n",
              "    <tr>\n",
              "      <th>2</th>\n",
              "      <td>3</td>\n",
              "      <td>1</td>\n",
              "      <td>omg its already 7:30 :O</td>\n",
              "    </tr>\n",
              "    <tr>\n",
              "      <th>3</th>\n",
              "      <td>4</td>\n",
              "      <td>0</td>\n",
              "      <td>.. Omgaga. Im sooo  im gunna CRy. I'...</td>\n",
              "    </tr>\n",
              "    <tr>\n",
              "      <th>4</th>\n",
              "      <td>5</td>\n",
              "      <td>0</td>\n",
              "      <td>i think mi bf is cheating on me!!!   ...</td>\n",
              "    </tr>\n",
              "  </tbody>\n",
              "</table>\n",
              "</div>"
            ],
            "text/plain": [
              "   ItemID  Sentiment                                      SentimentText\n",
              "0       1          0                       is so sad for my APL frie...\n",
              "1       2          0                     I missed the New Moon trail...\n",
              "2       3          1                            omg its already 7:30 :O\n",
              "3       4          0            .. Omgaga. Im sooo  im gunna CRy. I'...\n",
              "4       5          0           i think mi bf is cheating on me!!!   ..."
            ]
          },
          "metadata": {
            "tags": []
          },
          "execution_count": 4
        }
      ]
    },
    {
      "cell_type": "code",
      "metadata": {
        "colab": {
          "base_uri": "https://localhost:8080/"
        },
        "id": "gieaEeVXUZcw",
        "outputId": "41eb1f2f-7567-4ff7-b09c-19bc09532511"
      },
      "source": [
        "len(data)"
      ],
      "execution_count": 5,
      "outputs": [
        {
          "output_type": "execute_result",
          "data": {
            "text/plain": [
              "99989"
            ]
          },
          "metadata": {
            "tags": []
          },
          "execution_count": 5
        }
      ]
    },
    {
      "cell_type": "markdown",
      "metadata": {
        "id": "Wk1BsM3IWXRg"
      },
      "source": [
        "## Data Preprocessing"
      ]
    },
    {
      "cell_type": "code",
      "metadata": {
        "id": "QRw-OYHOUr0T"
      },
      "source": [
        "from nltk.corpus import stopwords\r\n",
        "from nltk.stem import PorterStemmer\r\n",
        "\r\n",
        "ps = PorterStemmer()"
      ],
      "execution_count": 6,
      "outputs": []
    },
    {
      "cell_type": "code",
      "metadata": {
        "id": "4SMSDFFPUcNc"
      },
      "source": [
        "def Preprocessing(text):\r\n",
        "    # stripping quotes at end of text\r\n",
        "    text=text.strip('')\r\n",
        "\r\n",
        "    # removing twitter handles @user\r\n",
        "    text=re.sub(\"@[\\w]*\",\" \",text)\r\n",
        "\r\n",
        "    # removing URLs with the space\r\n",
        "    text = re.sub(r'((www\\.[\\S]+)|(https?://[\\S]+))', ' ', text)\r\n",
        "\r\n",
        "    # stripping space, \" and ' from text\r\n",
        "    text = text.strip(' \"\\'')\r\n",
        "\r\n",
        "    # removing repeated letters of string such as yessss to yes \r\n",
        "    text=re.sub(r'(.)\\1{3,}', r'\\1', text)\r\n",
        "\r\n",
        "    # removing the special characters\r\n",
        "    text = re.sub('[^A-Za-z]', ' ', text)\r\n",
        "\r\n",
        "    # replacing two or more dots with space\r\n",
        "    text = re.sub(\"\\\\.{2,}\",\" \",text)\r\n",
        "\r\n",
        "    # converting all text into small letters and storing them as words for further processing\r\n",
        "    text_list = text.lower().split()\r\n",
        "\r\n",
        "    # stemming the words (removing prefix and postfix) using Porter Stemming algorithm..\r\n",
        "    text_list = [ps.stem(word) for word in text_list]\r\n",
        "    \r\n",
        "    return ' '.join(text_list)"
      ],
      "execution_count": 7,
      "outputs": []
    },
    {
      "cell_type": "code",
      "metadata": {
        "id": "4o7LqGpWV8rz"
      },
      "source": [
        "data['Preprocessed_data']=data['SentimentText'].apply(Preprocessing)"
      ],
      "execution_count": 8,
      "outputs": []
    },
    {
      "cell_type": "code",
      "metadata": {
        "colab": {
          "base_uri": "https://localhost:8080/",
          "height": 204
        },
        "id": "b8ENuu9xWEeH",
        "outputId": "c3dce0db-8a64-41fb-afbf-f6b15b91efc5"
      },
      "source": [
        "data.head()"
      ],
      "execution_count": 9,
      "outputs": [
        {
          "output_type": "execute_result",
          "data": {
            "text/html": [
              "<div>\n",
              "<style scoped>\n",
              "    .dataframe tbody tr th:only-of-type {\n",
              "        vertical-align: middle;\n",
              "    }\n",
              "\n",
              "    .dataframe tbody tr th {\n",
              "        vertical-align: top;\n",
              "    }\n",
              "\n",
              "    .dataframe thead th {\n",
              "        text-align: right;\n",
              "    }\n",
              "</style>\n",
              "<table border=\"1\" class=\"dataframe\">\n",
              "  <thead>\n",
              "    <tr style=\"text-align: right;\">\n",
              "      <th></th>\n",
              "      <th>ItemID</th>\n",
              "      <th>Sentiment</th>\n",
              "      <th>SentimentText</th>\n",
              "      <th>Preprocessed_data</th>\n",
              "    </tr>\n",
              "  </thead>\n",
              "  <tbody>\n",
              "    <tr>\n",
              "      <th>0</th>\n",
              "      <td>1</td>\n",
              "      <td>0</td>\n",
              "      <td>is so sad for my APL frie...</td>\n",
              "      <td>is so sad for my apl friend</td>\n",
              "    </tr>\n",
              "    <tr>\n",
              "      <th>1</th>\n",
              "      <td>2</td>\n",
              "      <td>0</td>\n",
              "      <td>I missed the New Moon trail...</td>\n",
              "      <td>i miss the new moon trailer</td>\n",
              "    </tr>\n",
              "    <tr>\n",
              "      <th>2</th>\n",
              "      <td>3</td>\n",
              "      <td>1</td>\n",
              "      <td>omg its already 7:30 :O</td>\n",
              "      <td>omg it alreadi o</td>\n",
              "    </tr>\n",
              "    <tr>\n",
              "      <th>3</th>\n",
              "      <td>4</td>\n",
              "      <td>0</td>\n",
              "      <td>.. Omgaga. Im sooo  im gunna CRy. I'...</td>\n",
              "      <td>omgaga im sooo im gunna cri i ve been at thi d...</td>\n",
              "    </tr>\n",
              "    <tr>\n",
              "      <th>4</th>\n",
              "      <td>5</td>\n",
              "      <td>0</td>\n",
              "      <td>i think mi bf is cheating on me!!!   ...</td>\n",
              "      <td>i think mi bf is cheat on me t t</td>\n",
              "    </tr>\n",
              "  </tbody>\n",
              "</table>\n",
              "</div>"
            ],
            "text/plain": [
              "   ItemID  ...                                  Preprocessed_data\n",
              "0       1  ...                        is so sad for my apl friend\n",
              "1       2  ...                        i miss the new moon trailer\n",
              "2       3  ...                                   omg it alreadi o\n",
              "3       4  ...  omgaga im sooo im gunna cri i ve been at thi d...\n",
              "4       5  ...                   i think mi bf is cheat on me t t\n",
              "\n",
              "[5 rows x 4 columns]"
            ]
          },
          "metadata": {
            "tags": []
          },
          "execution_count": 9
        }
      ]
    },
    {
      "cell_type": "markdown",
      "metadata": {
        "id": "8xLblBgQWbE9"
      },
      "source": [
        "# Splitting the data"
      ]
    },
    {
      "cell_type": "code",
      "metadata": {
        "id": "s7UHiV6uWKUg"
      },
      "source": [
        "from sklearn.model_selection import train_test_split\r\n",
        "\r\n",
        "train, test = train_test_split(data, test_size=0.20)"
      ],
      "execution_count": 10,
      "outputs": []
    },
    {
      "cell_type": "code",
      "metadata": {
        "colab": {
          "base_uri": "https://localhost:8080/"
        },
        "id": "SnPhRcqqYG_z",
        "outputId": "22af8ba0-a518-4c13-f56d-2b5fd6fd6ca3"
      },
      "source": [
        "len(train), len(test)"
      ],
      "execution_count": 11,
      "outputs": [
        {
          "output_type": "execute_result",
          "data": {
            "text/plain": [
              "(79991, 19998)"
            ]
          },
          "metadata": {
            "tags": []
          },
          "execution_count": 11
        }
      ]
    },
    {
      "cell_type": "code",
      "metadata": {
        "id": "DwfqmQx8Yunl"
      },
      "source": [
        ""
      ],
      "execution_count": null,
      "outputs": []
    },
    {
      "cell_type": "markdown",
      "metadata": {
        "id": "_nWe966YYfdK"
      },
      "source": [
        "# Vectorization"
      ]
    },
    {
      "cell_type": "code",
      "metadata": {
        "id": "Ne_LAW3QW0L3"
      },
      "source": [
        "from sklearn.feature_extraction.text import CountVectorizer, TfidfTransformer\r\n",
        "\r\n",
        "count_vectorization = CountVectorizer()\r\n",
        "tfidf_transformation = TfidfTransformer()"
      ],
      "execution_count": 12,
      "outputs": []
    },
    {
      "cell_type": "code",
      "metadata": {
        "id": "Y2xRFu2vZOzC"
      },
      "source": [
        "X_train_count_vector = count_vectorization.fit_transform(train[\"Preprocessed_data\"])\r\n",
        "X_train_tfidf_vector = tfidf_transformation.fit_transform(X_train_count_vector)\r\n",
        "\r\n",
        "X_test_count_vector = count_vectorization.transform(test[\"Preprocessed_data\"])\r\n",
        "X_test_tfidf_vector = tfidf_transformation.transform(X_test_count_vector)\r\n",
        "\r\n",
        "y_train = train['Sentiment']\r\n",
        "y_test = test['Sentiment']"
      ],
      "execution_count": 13,
      "outputs": []
    },
    {
      "cell_type": "code",
      "metadata": {
        "id": "zl3JuNkCZ6Em"
      },
      "source": [
        ""
      ],
      "execution_count": null,
      "outputs": []
    },
    {
      "cell_type": "markdown",
      "metadata": {
        "id": "ZlpK5rATaq_p"
      },
      "source": [
        "# Training and Testing Models"
      ]
    },
    {
      "cell_type": "code",
      "metadata": {
        "id": "U0CAXht0auHE"
      },
      "source": [
        "from sklearn.linear_model import SGDClassifier\r\n",
        "from sklearn.naive_bayes import MultinomialNB\r\n",
        "from sklearn.naive_bayes import BernoulliNB\r\n",
        "from sklearn.linear_model import LogisticRegression\r\n",
        "from sklearn.tree import DecisionTreeClassifier\r\n",
        "from sklearn.svm import SVC"
      ],
      "execution_count": 23,
      "outputs": []
    },
    {
      "cell_type": "code",
      "metadata": {
        "id": "DLnB7sAbI9Ng"
      },
      "source": [
        "model_prediction = dict()"
      ],
      "execution_count": 26,
      "outputs": []
    },
    {
      "cell_type": "code",
      "metadata": {
        "id": "xMtZUCxhaw03"
      },
      "source": [
        "# SVM - Stochastic Gradient Descent\r\n",
        "model = SGDClassifier(max_iter=1000, tol=1e-3, loss=\"modified_huber\").fit(X_train_tfidf_vector, y_train)\r\n",
        "model_prediction['SVM-SGD'] = model.predict(X_test_tfidf_vector)\r\n",
        "\r\n",
        "# Multinomial Naive Bayes\r\n",
        "model = MultinomialNB().fit(X_train_tfidf_vector, y_train)\r\n",
        "model_prediction['Multinomial'] = model.predict(X_test_tfidf_vector)\r\n",
        "\r\n",
        "# Bernoulli Naive Bayes\r\n",
        "model = BernoulliNB().fit(X_train_tfidf_vector, y_train)\r\n",
        "model_prediction['Bernoulli'] = model.predict(X_test_tfidf_vector)\r\n",
        "\r\n",
        "# Logistic Regression\r\n",
        "model = LogisticRegression(C=1).fit(X_train_tfidf_vector, y_train)\r\n",
        "model_prediction['Logistic'] = model.predict(X_test_tfidf_vector)\r\n",
        "\r\n",
        "# SVM - Support Vector Classifier\r\n",
        "model = SVC(gamma='auto', C=1).fit(X_train_tfidf_vector, y_train)\r\n",
        "model_prediction['SVM'] = model.predict(X_test_tfidf_vector)\r\n",
        "\r\n",
        "# Decision Trees\r\n",
        "model = DecisionTreeClassifier().fit(X_train_tfidf_vector, y_train)\r\n",
        "model_prediction['Decision Tree'] = model.predict(X_test_tfidf_vector)"
      ],
      "execution_count": 27,
      "outputs": []
    },
    {
      "cell_type": "code",
      "metadata": {
        "id": "jMY8KwbKXKk_"
      },
      "source": [
        "from sklearn import metrics\r\n",
        "from sklearn.metrics import accuracy_score, f1_score\r\n",
        "from sklearn.metrics import classification_report, confusion_matrix"
      ],
      "execution_count": 34,
      "outputs": []
    },
    {
      "cell_type": "code",
      "metadata": {
        "colab": {
          "base_uri": "https://localhost:8080/"
        },
        "id": "az-WWFgZXB_c",
        "outputId": "fad7fc62-0d24-41a3-adfa-6a8842bb2186"
      },
      "source": [
        "print(\"ACCURACY SCORE:\\n\")\r\n",
        "for model_name in model_prediction.keys():\r\n",
        "  print(model_name, ': ', round(accuracy_score(y_test, model_prediction[model_name])*100, 2))"
      ],
      "execution_count": 41,
      "outputs": [
        {
          "output_type": "stream",
          "text": [
            "ACCURACY SCORE:\n",
            "\n",
            "SVM-SGD :  76.28\n",
            "Multinomial :  74.01\n",
            "Bernoulli :  74.33\n",
            "Logistic :  76.47\n",
            "SVM :  56.18\n",
            "Decision Tree :  68.15\n"
          ],
          "name": "stdout"
        }
      ]
    },
    {
      "cell_type": "code",
      "metadata": {
        "colab": {
          "base_uri": "https://localhost:8080/"
        },
        "id": "7AM-XCENX-0I",
        "outputId": "e3ce0e50-cd28-4df8-961e-fa11154a0738"
      },
      "source": [
        "print(\"F1 SCORE:\\n\")\r\n",
        "for model_name in model_prediction.keys():\r\n",
        "  print(model_name, ': ', round(f1_score(y_test, model_prediction[model_name]), 2))"
      ],
      "execution_count": 42,
      "outputs": [
        {
          "output_type": "stream",
          "text": [
            "F1 SCORE:\n",
            "\n",
            "SVM-SGD :  0.8\n",
            "Multinomial :  0.79\n",
            "Bernoulli :  0.78\n",
            "Logistic :  0.8\n",
            "SVM :  0.72\n",
            "Decision Tree :  0.72\n"
          ],
          "name": "stdout"
        }
      ]
    },
    {
      "cell_type": "code",
      "metadata": {
        "id": "nNVhqY4vzOhd"
      },
      "source": [
        ""
      ],
      "execution_count": null,
      "outputs": []
    },
    {
      "cell_type": "markdown",
      "metadata": {
        "id": "qrpdNZQBzQOU"
      },
      "source": [
        "# Model Evaluation"
      ]
    },
    {
      "cell_type": "code",
      "metadata": {
        "colab": {
          "base_uri": "https://localhost:8080/",
          "height": 295
        },
        "id": "mS8ghXvwziAO",
        "outputId": "6633e3bd-e36c-4132-f4aa-54cb886e0428"
      },
      "source": [
        "import numpy as np\r\n",
        "import matplotlib.pyplot as plt\r\n",
        "from sklearn.metrics import roc_curve, auc\r\n",
        "\r\n",
        "count = 0\r\n",
        "colors = ['b', 'g', 'y', 'm', 'k', 'c']\r\n",
        "for model, prediction in model_prediction.items():\r\n",
        "    fpr, tpr, threshold = roc_curve(y_test, prediction)\r\n",
        "    roc_auc = auc(fpr, tpr)\r\n",
        "    plt.plot(fpr, tpr, colors[count], label='%s: AUC %0.2f'% (model, roc_auc))\r\n",
        "    count += 1\r\n",
        "\r\n",
        "plt.title('ROC-AUC Comparision')\r\n",
        "plt.legend(loc='lower right')\r\n",
        "plt.plot([0,1],[0,1],'r--')\r\n",
        "\r\n",
        "plt.ylabel('True Positive Rate')\r\n",
        "plt.xlabel('False Positive Rate')\r\n",
        "plt.show()"
      ],
      "execution_count": 39,
      "outputs": [
        {
          "output_type": "display_data",
          "data": {
            "image/png": "[encoded data removed]",
            "text/plain": [
              "<Figure size 432x288 with 1 Axes>"
            ]
          },
          "metadata": {
            "tags": [],
            "needs_background": "light"
          }
        }
      ]
    },
    {
      "cell_type": "code",
      "metadata": {
        "id": "aWm3BCGFfuVF"
      },
      "source": [
        ""
      ],
      "execution_count": null,
      "outputs": []
    },
    {
      "cell_type": "markdown",
      "metadata": {
        "id": "-xlAjcojhMj-"
      },
      "source": [
        "Doing further analysis on best model, i.e. Logistic Regression"
      ]
    },
    {
      "cell_type": "code",
      "metadata": {
        "id": "_YUBlHHBfdcf"
      },
      "source": [
        "from sklearn.model_selection import GridSearchCV\r\n",
        "\r\n",
        "param_grid = {'C': [0.001, 0.01, 0.1, 1, 10]}\r\n",
        "grid = GridSearchCV(LogisticRegression(), param_grid)\r\n",
        "grid.fit(X_train_tfidf_vector, y_train)"
      ],
      "execution_count": null,
      "outputs": []
    },
    {
      "cell_type": "code",
      "metadata": {
        "colab": {
          "base_uri": "https://localhost:8080/"
        },
        "id": "-AVPP41ygPGH",
        "outputId": "2e4d5dfc-f099-4a3c-e56a-00f79a3b16c1"
      },
      "source": [
        "print(\"Best cross-validation score: {:.2f}\".format(grid.best_score_))\r\n",
        "print(\"Best parameter: \", grid.best_params_)\r\n",
        "print(\"Best estimator: \", grid.best_estimator_)"
      ],
      "execution_count": 48,
      "outputs": [
        {
          "output_type": "stream",
          "text": [
            "Best cross-validation score: 0.77\n",
            "Best parameter:  {'C': 1}\n",
            "Best estimator:  LogisticRegression(C=1, class_weight=None, dual=False, fit_intercept=True,\n",
            "                   intercept_scaling=1, l1_ratio=None, max_iter=100,\n",
            "                   multi_class='auto', n_jobs=None, penalty='l2',\n",
            "                   random_state=None, solver='lbfgs', tol=0.0001, verbose=0,\n",
            "                   warm_start=False)\n"
          ],
          "name": "stdout"
        }
      ]
    },
    {
      "cell_type": "code",
      "metadata": {
        "colab": {
          "base_uri": "https://localhost:8080/",
          "height": 281
        },
        "id": "YCNipcgrg0XM",
        "outputId": "cd4c3c42-155d-4ad3-af94-c8f6d95b42d3"
      },
      "source": [
        "# Confusion Matrix for Logistic Regression\r\n",
        "import seaborn as sns\r\n",
        "\r\n",
        "conf_mat = confusion_matrix(y_test, model_prediction['Logistic'])\r\n",
        "axes = [\"Negative\", \"Positive\"]\r\n",
        "confusion_matrix_df = pd.DataFrame(conf_mat, axes, axes, dtype=int)\r\n",
        "sns.heatmap(confusion_matrix_df, annot=True, fmt=\"d\")\r\n",
        "plt.title(\"Confustion Matrix for Logistic Regression\")\r\n",
        "plt.show()"
      ],
      "execution_count": 50,
      "outputs": [
        {
          "output_type": "display_data",
          "data": {
            "image/png": "[encoded data removed]",
            "text/plain": [
              "<Figure size 432x288 with 2 Axes>"
            ]
          },
          "metadata": {
            "tags": [],
            "needs_background": "light"
          }
        }
      ]
    },
    {
      "cell_type": "code",
      "metadata": {
        "id": "g1nwKqsssuq_"
      },
      "source": [
        ""
      ],
      "execution_count": null,
      "outputs": []
    }
  ]
}